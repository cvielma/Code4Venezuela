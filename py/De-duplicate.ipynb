{
 "cells": [
  {
   "cell_type": "code",
   "execution_count": 1,
   "metadata": {},
   "outputs": [
    {
     "name": "stderr",
     "output_type": "stream",
     "text": [
      "/usr/local/lib/python2.7/site-packages/pandas/_libs/__init__.py:4: RuntimeWarning: numpy.dtype size changed, may indicate binary incompatibility. Expected 96, got 88\n",
      "  from .tslib import iNaT, NaT, Timestamp, Timedelta, OutOfBoundsDatetime\n",
      "/usr/local/lib/python2.7/site-packages/pandas/__init__.py:26: RuntimeWarning: numpy.dtype size changed, may indicate binary incompatibility. Expected 96, got 88\n",
      "  from pandas._libs import (hashtable as _hashtable,\n",
      "/usr/local/lib/python2.7/site-packages/pandas/core/dtypes/common.py:6: RuntimeWarning: numpy.dtype size changed, may indicate binary incompatibility. Expected 96, got 88\n",
      "  from pandas._libs import algos, lib\n",
      "/usr/local/lib/python2.7/site-packages/pandas/core/util/hashing.py:7: RuntimeWarning: numpy.dtype size changed, may indicate binary incompatibility. Expected 96, got 88\n",
      "  from pandas._libs import hashing, tslib\n",
      "/usr/local/lib/python2.7/site-packages/pandas/core/indexes/base.py:7: RuntimeWarning: numpy.dtype size changed, may indicate binary incompatibility. Expected 96, got 88\n",
      "  from pandas._libs import (lib, index as libindex, tslib as libts,\n",
      "/usr/local/lib/python2.7/site-packages/pandas/tseries/offsets.py:21: RuntimeWarning: numpy.dtype size changed, may indicate binary incompatibility. Expected 96, got 88\n",
      "  import pandas._libs.tslibs.offsets as liboffsets\n",
      "/usr/local/lib/python2.7/site-packages/pandas/core/ops.py:16: RuntimeWarning: numpy.dtype size changed, may indicate binary incompatibility. Expected 96, got 88\n",
      "  from pandas._libs import algos as libalgos, ops as libops\n",
      "/usr/local/lib/python2.7/site-packages/pandas/core/indexes/interval.py:32: RuntimeWarning: numpy.dtype size changed, may indicate binary incompatibility. Expected 96, got 88\n",
      "  from pandas._libs.interval import (\n",
      "/usr/local/lib/python2.7/site-packages/pandas/core/internals.py:14: RuntimeWarning: numpy.dtype size changed, may indicate binary incompatibility. Expected 96, got 88\n",
      "  from pandas._libs import internals as libinternals\n",
      "/usr/local/lib/python2.7/site-packages/pandas/core/sparse/array.py:33: RuntimeWarning: numpy.dtype size changed, may indicate binary incompatibility. Expected 96, got 88\n",
      "  import pandas._libs.sparse as splib\n",
      "/usr/local/lib/python2.7/site-packages/pandas/core/window.py:36: RuntimeWarning: numpy.dtype size changed, may indicate binary incompatibility. Expected 96, got 88\n",
      "  import pandas._libs.window as _window\n",
      "/usr/local/lib/python2.7/site-packages/pandas/core/groupby/groupby.py:68: RuntimeWarning: numpy.dtype size changed, may indicate binary incompatibility. Expected 96, got 88\n",
      "  from pandas._libs import (lib, reduction,\n",
      "/usr/local/lib/python2.7/site-packages/pandas/core/reshape/reshape.py:30: RuntimeWarning: numpy.dtype size changed, may indicate binary incompatibility. Expected 96, got 88\n",
      "  from pandas._libs import algos as _algos, reshape as _reshape\n",
      "/usr/local/lib/python2.7/site-packages/pandas/io/parsers.py:45: RuntimeWarning: numpy.dtype size changed, may indicate binary incompatibility. Expected 96, got 88\n",
      "  import pandas._libs.parsers as parsers\n",
      "/usr/local/lib/python2.7/site-packages/pandas/io/pytables.py:50: RuntimeWarning: numpy.dtype size changed, may indicate binary incompatibility. Expected 96, got 88\n",
      "  from pandas._libs import algos, lib, writers as libwriters\n"
     ]
    }
   ],
   "source": [
    "import pandas as pd\n",
    "from __future__ import division\n",
    "import os\n",
    "import re\n",
    "import random\n",
    "import time\n",
    "import binascii\n",
    "from bisect import bisect_right\n",
    "from heapq import heappop, heappush"
   ]
  },
  {
   "cell_type": "code",
   "execution_count": 3,
   "metadata": {},
   "outputs": [],
   "source": [
    "def Shingle_text(words, verbose=False):\n",
    "    # Split spaces before shingling\n",
    "    words = words.split(\" \")\n",
    "    t0 = time.time()\n",
    "\n",
    "    # 'shinglesInDoc' will hold all of the unique shingle IDs present in the \n",
    "    # current document. If a shingle ID occurs multiple times in the document,\n",
    "    # it will only appear once in the set (this is a property of Python sets).\n",
    "    shinglesInDoc = set()\n",
    "\n",
    "    # For each word in the document...\n",
    "    for index in range(0, len(words) - 2):\n",
    "        # Construct the shingle text by combining three words together.\n",
    "        shingle = words[index] + \" \" + words[index + 1] + \" \" + words[index + 2]\n",
    "\n",
    "        # Hash the shingle to a 32-bit integer.\n",
    "        crc = binascii.crc32(shingle) & 0xffffffff\n",
    "\n",
    "        # Add the hash value to the list of shingles for the current document. \n",
    "        # Note that set objects will only add the value to the set if the set \n",
    "        # doesn't already contain it. \n",
    "        shinglesInDoc.add(crc)\n",
    "\n",
    "    # Count the number of shingles across all documents.\n",
    "    # totalShingles = totalShingles + (len(words) - 2)\n",
    "\n",
    "    # Report how long shingling took.\n",
    "    if verbose:\n",
    "        print '\\nShingling took %.2f sec.' % (time.time() - t0)\n",
    "        # print '\\Average shingles per doc: %.2f' % (totalShingles / numDocs)\n",
    "    \n",
    "    return shinglesInDoc"
   ]
  },
  {
   "cell_type": "code",
   "execution_count": 4,
   "metadata": {},
   "outputs": [],
   "source": [
    "hashed_tweets = {}\n",
    "filtered_data = []"
   ]
  },
  {
   "cell_type": "code",
   "execution_count": 10,
   "metadata": {},
   "outputs": [
    {
     "name": "stdout",
     "output_type": "stream",
     "text": [
      "1023486\n"
     ]
    }
   ],
   "source": [
    "import json\n",
    "\n",
    "tweets_2 = '/Users/jmarcano/Downloads/c4v-julio-castro-tweets.json'\n",
    "with open(tweets_2) as json_file:      \n",
    "    all_data = json_file.readlines()\n",
    "    # this line below may take at least 8-10 minutes of processing for 4-5 million rows. It converts all strings in list to actual json objects. \n",
    "    all_data = list(map(json.loads, all_data))\n",
    "    \n",
    "    print len(all_data)\n",
    "    for i in range(0, len(all_data)):\n",
    "        last_line = None\n",
    "        \n",
    "        try:\n",
    "            last_line = all_data[i][u'retweeted_status'][u'text'].encode(\"utf-8\")\n",
    "        except:\n",
    "            last_line = all_data[i][u'tweet_text'].encode(\"utf-8\")\n",
    "        \n",
    "        if(last_line != None):\n",
    "            shingles = tuple(Shingle_text(last_line))\n",
    "    #         print last_line\n",
    "    #         print shingles\n",
    "\n",
    "            if( shingles not in hashed_tweets):\n",
    "                hashed_tweets[shingles] = last_line\n",
    "                filtered_data.append( all_data[i]  )\n",
    "        else:\n",
    "            print 'invalid tweet'"
   ]
  },
  {
   "cell_type": "code",
   "execution_count": 13,
   "metadata": {},
   "outputs": [],
   "source": [
    "import pickle\n",
    "filtered_data_fname = 'de-duplicated_tweets.p'\n",
    "filtered_data_f = open(filtered_data_fname, 'wb')\n",
    "pickle.dump(filtered_data, filtered_data_f)"
   ]
  },
  {
   "cell_type": "code",
   "execution_count": 14,
   "metadata": {},
   "outputs": [],
   "source": [
    "with open('de-duplicated_tweets.json', 'w') as outfile:  \n",
    "    json.dump(filtered_data, outfile)"
   ]
  },
  {
   "cell_type": "code",
   "execution_count": 9,
   "metadata": {},
   "outputs": [
    {
     "data": {
      "text/plain": [
       "False"
      ]
     },
     "execution_count": 9,
     "metadata": {},
     "output_type": "execute_result"
    }
   ],
   "source": [
    "None != None"
   ]
  },
  {
   "cell_type": "code",
   "execution_count": null,
   "metadata": {},
   "outputs": [],
   "source": []
  }
 ],
 "metadata": {
  "kernelspec": {
   "display_name": "Python 2",
   "language": "python",
   "name": "python2"
  },
  "language_info": {
   "codemirror_mode": {
    "name": "ipython",
    "version": 2
   },
   "file_extension": ".py",
   "mimetype": "text/x-python",
   "name": "python",
   "nbconvert_exporter": "python",
   "pygments_lexer": "ipython2",
   "version": "2.7.15"
  }
 },
 "nbformat": 4,
 "nbformat_minor": 2
}
